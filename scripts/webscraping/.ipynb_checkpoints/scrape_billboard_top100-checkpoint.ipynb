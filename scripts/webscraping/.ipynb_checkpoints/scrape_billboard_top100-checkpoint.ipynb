{
 "cells": [
  {
   "cell_type": "code",
   "execution_count": null,
   "metadata": {},
   "outputs": [],
   "source": [
    "from urllib.request import urlopen\n",
    "import requests\n",
    "from bs4 import BeautifulSoup\n",
    "\n",
    "def get_top_songs(year_start, year_end):\n",
    "    \n",
    "    delta = year_end-year_start\n",
    "\n",
    "    output= []\n",
    "    \n",
    "    for i in range(0,delta):\n",
    "        for j in range (1,13):\n",
    "        \n",
    "            year = year_start+i\n",
    "            month = str(j).zfill(2) \n",
    "            day = 15\n",
    "        \n",
    "            date = \"\" + str(year) + \"-\" + str(month) + \"-\" + str(day)\n",
    "        \n",
    "            \n",
    "            url = \"http://www.billboard.com/charts/hot-100/\" + date\n",
    "            print(url)\n",
    "            result = requests.get(url)\n",
    "            soup = BeautifulSoup(result.content, 'html.parser')\n",
    "                \n",
    "            title_tag_name = soup.find_all(\"span\", class_=\"chart-list-item__title-text\")\n",
    "            artist_tag_name = soup.find_all(\"div\", class_=\"chart-list-item__artist\")\n",
    "            rank_tag_name = soup.find_all(\"div\", class_=\"chart-list-item__rank\")\n",
    "      \n",
    "            \n",
    "            for j in range(0,len(title_tag_name)):\n",
    "                row = \"\"\n",
    "                for k in range(0,len(title_tag_name[j].contents)):\n",
    " \n",
    "                    if (len(artist_tag_name[j].findChildren()) >= 1 ):\n",
    "                        artist = artist_tag_name[j].findChildren(\"a\")[0].contents[0].strip('\\n')\n",
    "                    else:\n",
    "                        artist = str(artist_tag_name[j].contents[k].strip('\\n'))\n",
    "                        \n",
    "                    row = date+\",\"+str(rank_tag_name[j].contents[k].strip(\"\\n\"))+ \",\" + str(title_tag_name[j].contents[k].strip(\"\\n\")) + \",\" + artist + '\\n'\n",
    "                       \n",
    "#                     print(row)\n",
    "                output.append( row)\n",
    "#             print(output)\n",
    "           \n",
    "    with open('csvfile.csv','w') as file:\n",
    "        for l in output:\n",
    "            file.write(l.strip('\\n'))\n",
    "            file.write('\\n')\n",
    "\n",
    "    \n",
    "get_top_songs(20016,2018)"
   ]
  },
  {
   "cell_type": "code",
   "execution_count": null,
   "metadata": {},
   "outputs": [],
   "source": []
  },
  {
   "cell_type": "code",
   "execution_count": null,
   "metadata": {},
   "outputs": [],
   "source": []
  }
 ],
 "metadata": {
  "kernelspec": {
   "display_name": "Python 3",
   "language": "python",
   "name": "python3"
  },
  "language_info": {
   "codemirror_mode": {
    "name": "ipython",
    "version": 3
   },
   "file_extension": ".py",
   "mimetype": "text/x-python",
   "name": "python",
   "nbconvert_exporter": "python",
   "pygments_lexer": "ipython3",
   "version": "3.7.1"
  }
 },
 "nbformat": 4,
 "nbformat_minor": 2
}
